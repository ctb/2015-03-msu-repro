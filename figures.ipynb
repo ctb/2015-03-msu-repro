{
 "metadata": {
  "name": ""
 },
 "nbformat": 3,
 "nbformat_minor": 0,
 "worksheets": [
  {
   "cells": [
    {
     "cell_type": "code",
     "collapsed": false,
     "input": [
      "%pylab inline"
     ],
     "language": "python",
     "metadata": {},
     "outputs": [
      {
       "output_type": "stream",
       "stream": "stdout",
       "text": [
        "Populating the interactive namespace from numpy and matplotlib\n"
       ]
      }
     ],
     "prompt_number": 1
    },
    {
     "cell_type": "code",
     "collapsed": false,
     "input": [
      "ls"
     ],
     "language": "python",
     "metadata": {},
     "outputs": [
      {
       "output_type": "stream",
       "stream": "stdout",
       "text": [
        "Makefile              error-locations.hist  \u001b[31mmake-reads.py\u001b[m\u001b[m*\r\n",
        "Makefile~             \u001b[31merror-spectrum.py\u001b[m\u001b[m*    \u001b[31mmake-reads.py~\u001b[m\u001b[m*\r\n",
        "README.md             error-spectrum.py~    reads.ct\r\n",
        "Untitled0.ipynb       genome.fa             reads.ct.info\r\n",
        "\u001b[34mdata\u001b[m\u001b[m/                 \u001b[31mmake-genome.py\u001b[m\u001b[m*       reads.fa\r\n"
       ]
      }
     ],
     "prompt_number": 2
    },
    {
     "cell_type": "code",
     "collapsed": false,
     "input": [
      "hist = numpy.loadtxt('error-locations.hist')"
     ],
     "language": "python",
     "metadata": {},
     "outputs": [],
     "prompt_number": 3
    },
    {
     "cell_type": "code",
     "collapsed": false,
     "input": [
      "plot(hist[:,0], hist[:,1])\n",
      "axis(xmax=10)\n",
      "xlabel('position in read of error')\n",
      "ylabel('num errors at that position')\n",
      "savefig('figure1.pdf')"
     ],
     "language": "python",
     "metadata": {},
     "outputs": [
      {
       "metadata": {},
       "output_type": "display_data",
       "png": "[encoded data removed]",
       "text": [
        "<matplotlib.figure.Figure at 0x10988b4d0>"
       ]
      }
     ],
     "prompt_number": 8
    },
    {
     "cell_type": "code",
     "collapsed": false,
     "input": [],
     "language": "python",
     "metadata": {},
     "outputs": []
    }
   ],
   "metadata": {}
  }
 ]
}